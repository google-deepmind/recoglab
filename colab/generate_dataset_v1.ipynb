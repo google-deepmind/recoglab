{
  "cells": [
    {
      "cell_type": "markdown",
      "metadata": {
        "id": "gXijRmZvEaMf"
      },
      "source": [
        "# [ReCogLab] Generate Dataset\n",
        "This is colab interface that can be used to access the library and generate examples.\n",
        "\n",
        "We've provided an interface for easy to configure options. For a description of what each one corresponds to, see\n"
      ]
    },
    {
      "cell_type": "code",
      "execution_count": null,
      "metadata": {
        "id": "m7QCDI1GhJZ2"
      },
      "outputs": [],
      "source": [
        "%%capture\n",
        "\n",
        "# Clone recoglab from github.\n",
        "!git clone https://github.com/google-deepmind/recoglab.git\n",
        "!pip install -r recoglab/requirements.txt"
      ]
    },
    {
      "cell_type": "markdown",
      "metadata": {
        "id": "8gktaFIAOxbj"
      },
      "source": [
        "If you encounter:\n",
        "\n",
        "```ValueError: All ufuncs must have type `numpy.ufunc`.```\n",
        "\n",
        " when importing libraries, you will need to restart the colab kernel so the python environment reloads the proper libraries."
      ]
    },
    {
      "cell_type": "code",
      "execution_count": null,
      "metadata": {
        "id": "7YjyuNczQN2B"
      },
      "outputs": [],
      "source": [
        "%load_ext autoreload\n",
        "\n",
        "%autoreload 2\n",
        "import collections\n",
        "import datetime\n",
        "import ml_collections\n",
        "from recoglab import common_types\n",
        "from recoglab import recoglab_dataset\n",
        "from recoglab import utils"
      ]
    },
    {
      "cell_type": "markdown",
      "metadata": {
        "id": "n0TPi3a-pExC"
      },
      "source": [
        "## Instructions\n",
        "\n",
        "Different configurations will create different relational reasoning problems. We defined some common defaults that we found useful and performant to language model reasoning."
      ]
    },
    {
      "cell_type": "markdown",
      "metadata": {
        "id": "6XPWR2kjpUTa"
      },
      "source": [
        "## Configuration\n",
        "\n",
        "* **Global Configurations**: This section controls framework and i/o parameters like splits, number of examples, seeding, and save location. Use domain to build configurations for a specific domain.\n",
        "\n",
        "* **Common Options**: This section are common configuration options between the four datasets.\n",
        "\n",
        "* **Social Network**: This section controls Social Network domain tasks.\n",
        "* **Comparison**: This section controls Comparison domain tasks."
      ]
    },
    {
      "cell_type": "code",
      "execution_count": null,
      "metadata": {
        "cellView": "form",
        "id": "8TfTe3IyEVK-"
      },
      "outputs": [],
      "source": [
        "# @title Global Configurations\n",
        "def get_global_config():\n",
        "  domain = 'social_network'  # @param ['social_network', 'comparison', 'syllogism', 'family_json']\n",
        "  dataset_name = ''  # @param {type: 'string'}\n",
        "  recoglab_dataset_dir = ''  # @param {type: 'string'}\n",
        "  split = 'test'  # @param ['train', 'test', 'val']\n",
        "  num_examples = 500  # @param {type: 'number'}\n",
        "  csv_seeds = '42'  # @param {type: 'string'}\n",
        "  csv_seed_list = [int(i) for i in csv_seeds.split(',')]\n",
        "  return locals()"
      ]
    },
    {
      "cell_type": "code",
      "execution_count": null,
      "metadata": {
        "cellView": "form",
        "id": "D8fEImbzGIa6"
      },
      "outputs": [],
      "source": [
        "# @title Common Options\n",
        "def common_config_form():\n",
        "  num_entities = 20  # @param{type: 'number'}\n",
        "  graph_type = 'linear'  # @param ['linear', 'random_tree', 'erdos_renyi']\n",
        "  ordering = 'random'  # @param ['random', 'inorder', 'reverse']\n",
        "\n",
        "  use_heuristic_rebalance = True  # @param{type:'boolean'}\n",
        "  heuristic_rebalance_field = 'answer/symbolic_distance'  # @param ['answer','answer/symbolic_distance']\n",
        "\n",
        "  # filler options\n",
        "  add_filler = False # @param{type:\"boolean\"}\n",
        "  num_filler_lines = 10 # @param{type:\"integer\"}\n",
        "  filler_type = 'random_text' # @param['random_text', 'entity_filler']\n",
        "  filler_position = 'interspersed' # @param['before', 'after', 'interspersed']\n",
        "  return locals()"
      ]
    },
    {
      "cell_type": "code",
      "execution_count": null,
      "metadata": {
        "cellView": "form",
        "id": "3uLed_cFGIdR"
      },
      "outputs": [],
      "source": [
        "# @title Social Network Options\n",
        "def social_network_form():\n",
        "  task_type = 'FastestMessage_NumHops'  # @param ['FastestMessage', 'FastestMessage_NumHops', 'FastestMessage_ExactPath']\n",
        "  entity_type = 'baby-names'  # @param ['baby-names']\n",
        "  relation_type = 'friend_advanced'  # @param ['friend', 'friend_advanced', 'relative']\n",
        "  return locals()\n",
        "\n",
        "\n",
        "def initialize_social_network_config():\n",
        "  common_options = common_config_form()\n",
        "  options = social_network_form()\n",
        "  config = ml_collections.ConfigDict()\n",
        "  config.name = 'SocialNetworkModule'\n",
        "\n",
        "  # common_options\n",
        "  config.network_type = common_options['graph_type']\n",
        "  config.randomize_relations = common_options['ordering']\n",
        "  config.num_entities_max = common_options['num_entities']\n",
        "\n",
        "  # task-specific options\n",
        "  config.entity_type = options['entity_type']\n",
        "  config.relation_type = options['relation_type']\n",
        "  config.query_task = options['task_type']\n",
        "  # if randomize_direction is True:\n",
        "  #   (A, B) can generate (A is friends with B) and (B is friends with A)\n",
        "  config.randomize_direction = False\n",
        "  config.add_filler = common_options['add_filler']\n",
        "\n",
        "  # Add filler options\n",
        "  if common_options['add_filler']:\n",
        "    # Overwrite defaults\n",
        "    config.num_filler_lines = common_options['num_filler_lines']\n",
        "    config.filler_type = common_options['filler_type']\n",
        "    config.filler_position = common_options['filler_position']\n",
        "\n",
        "  # misc\n",
        "  config.entities_mode = common_types.EntityMode.PRESET\n",
        "  config.preamble = ''\n",
        "  config.query_preamble = (\n",
        "      'Any two friends are able to pass along a message, which allows messages '\n",
        "      'to move from one friend to another. Thus, messages can be passed between'\n",
        "      ' two people through friends they have in common.\\n'\n",
        "  )\n",
        "  config.heuristic_field = (\n",
        "      common_options['heuristic_rebalance_field']\n",
        "      if common_options['use_heuristic_rebalance']\n",
        "      else ''\n",
        "  )\n",
        "  return config"
      ]
    },
    {
      "cell_type": "code",
      "execution_count": null,
      "metadata": {
        "cellView": "form",
        "id": "36yNREdSNWEU"
      },
      "outputs": [],
      "source": [
        "# @title Comparison Options\n",
        "def comparison_form():\n",
        "  task_type = 'ConsistencyDetection'  # @param ['Comparison', 'ConsistencyDetection', 'FeasibilityDetection']\n",
        "  entity_type = 'baby-names'  # @param ['baby-names', 'basic_objects', 'congruent_objects', 'random_name']\n",
        "  relation_type = 'size'  # @param['size', 'age', 'weight']\n",
        "  congruency_mode = 'all_congruent'  # @param['all_congruent', 'all_incongruent', 'random']\n",
        "  return locals()\n",
        "\n",
        "\n",
        "def initialize_comparison_config():\n",
        "  common_options = common_config_form()\n",
        "  options = comparison_form()\n",
        "  config = ml_collections.ConfigDict()\n",
        "  # common_options\n",
        "  config.network_type = common_options['graph_type']\n",
        "  config.ordering = common_options['ordering']\n",
        "  config.num_entities_max = common_options['num_entities']\n",
        "\n",
        "  # task-specific options\n",
        "  config.entity_type = options['entity_type']\n",
        "  config.relation_type = options['relation_type']\n",
        "  config.congruency_mode = options['congruency_mode']\n",
        "\n",
        "  # misc\n",
        "  config.entities_mode = common_types.EntityMode.PRESET\n",
        "  config.randomize_relations = False\n",
        "  config.preamble = ''\n",
        "  config.query_preamble = ''\n",
        "  config.add_filler = common_options['add_filler']\n",
        "\n",
        "  # Add filler options\n",
        "  if common_options['add_filler']:\n",
        "    # Overwrite defaults\n",
        "    config.num_filler_lines = common_options['num_filler_lines']\n",
        "    config.filler_type = common_options['filler_type']\n",
        "    config.filler_position = common_options['filler_position']\n",
        "  config.heuristic_field = (\n",
        "      common_options['heuristic_rebalance_field']\n",
        "      if common_options['use_heuristic_rebalance']\n",
        "      else ''\n",
        "  )\n",
        "\n",
        "  # Specific customization based on the task\n",
        "  if options['task_type'] == 'Comparison':\n",
        "    config.name = 'ComparisonModule'\n",
        "  elif options['task_type'] == 'ConsistencyDetection':\n",
        "    config.name = 'ComparisonValidModule'\n",
        "    config.heuristic_field = 'answer'\n",
        "  elif options['task_type'] == 'FeasibilityDetection':\n",
        "    config.name = 'ComparisonModule'\n",
        "    # feasibility only makes sense in directed trees\n",
        "    config.network_type = 'random_tree'\n",
        "    config.heuristic_field = 'answer'\n",
        "\n",
        "  return config"
      ]
    },
    {
      "cell_type": "code",
      "execution_count": null,
      "metadata": {
        "cellView": "form",
        "id": "8-CT_hU0tFh1"
      },
      "outputs": [],
      "source": [
        "# @title Syllogism Options\n",
        "def syllogism_form():\n",
        "  entity_type = 'plural_nouns'  # @param ['plural_nouns']\n",
        "  entities_mode = 'preset'  # @param ['congruent', 'incongruent', 'preset']\n",
        "  return locals()\n",
        "\n",
        "\n",
        "def initialize_syllogism_config():\n",
        "  common_options = common_config_form()\n",
        "  options = syllogism_form()\n",
        "  config = ml_collections.ConfigDict()\n",
        "  # common_options\n",
        "  config.network_type = common_options['graph_type']\n",
        "  config.ordering = common_options['ordering']\n",
        "  config.num_entities_max = common_options['num_entities']\n",
        "\n",
        "  # task-specific options\n",
        "  config.entity_type = options['entity_type']\n",
        "\n",
        "  # misc\n",
        "  config.entities_mode = options['entities_mode']\n",
        "  config.randomize_relations = False\n",
        "  config.preamble = ''\n",
        "  config.query_preamble = ''\n",
        "  config.add_filler = common_options['add_filler']\n",
        "  # Filler not implemented\n",
        "  if common_options['add_filler']:\n",
        "    raise RuntimeError('Filler not yet implemented for this module.')\n",
        "  config.heuristic_field = (\n",
        "      common_options['heuristic_rebalance_field']\n",
        "      if common_options['use_heuristic_rebalance']\n",
        "      else ''\n",
        "  )\n",
        "\n",
        "  if options['entities_mode'] == 'congruent':\n",
        "    config.name = 'CongruentSyllogismModule'\n",
        "  elif options['entities_mode'] == 'incongruent':\n",
        "    config.name = 'IncongruentSyllogismModule'\n",
        "  else:\n",
        "    config.name = 'SyllogismModule'\n",
        "\n",
        "  return config"
      ]
    },
    {
      "cell_type": "code",
      "execution_count": null,
      "metadata": {
        "cellView": "form",
        "id": "gLm-j7aL0GG-"
      },
      "outputs": [],
      "source": [
        "#@title Family JSON Options\n",
        "\n",
        "family = recoglab_dataset.family\n",
        "def family_json_form():\n",
        "  task = 'family_member_hobby_comparison' # @param ['family_size', 'family_member_hobby', 'family_size_comparison','family_member_age_comparison','family_member_hobby_comparison']\n",
        "  num_families = 10   #@param\n",
        "  max_members = 5   #@param\n",
        "  return locals()\n",
        "\n",
        "def get_family_module_config(relation_type):\n",
        "  options = family_json_form()\n",
        "\n",
        "  family_module_config = ml_collections.ConfigDict()\n",
        "  family_module_config.name = 'FamilyModule'\n",
        "  family_module_config.num_families = options['num_families']  # Used in Sweep ~ 1 Fam = 180 tokens\n",
        "  family_module_config.max_members = options['max_members']  # Used in Sweep\n",
        "  family_module_config.relation_type = relation_type\n",
        "  family_module_config.preamble = ''\n",
        "  family_module_config.query_preamble = ''\n",
        "  family_module_config.termination_type = 'None'\n",
        "  family_module_config.hop_length = -1  # -1 means sample between 1 to num_fam/2\n",
        "  return family_module_config\n",
        "\n",
        "def initialize_family_config():\n",
        "  common_options = common_config_form()\n",
        "  options = family_json_form()\n",
        "  config = ml_collections.ConfigDict()\n",
        "\n",
        "  task = options['task']\n",
        "\n",
        "  if task == 'family_size':\n",
        "    # config.all_module_names = ['family_size']\n",
        "    config = get_family_module_config(\n",
        "        relation_type=family.RelationType.FAMILY_SIZE\n",
        "    )\n",
        "  elif task == 'family_member_hobby':\n",
        "    # config.all_module_names = ['family_member_hobby']\n",
        "    config = get_family_module_config(\n",
        "        relation_type=family.RelationType.FAMILY_MEMBER_HOBBY\n",
        "    )\n",
        "  elif task == 'family_size_comparison':\n",
        "    # config.all_module_names = ['family_size_comparison']\n",
        "    config =  get_family_module_config(\n",
        "        relation_type=family.RelationType.FAMILY_SIZE_COMPARISON\n",
        "    )\n",
        "  elif task == 'family_member_age_comparison':\n",
        "    # config.all_module_names = ['family_member_age_comparison']\n",
        "    config = get_family_module_config(\n",
        "        relation_type=family.RelationType.FAMILY_MEMBER_AGE_COMPARISON\n",
        "    )\n",
        "  elif task == 'family_member_hobby_comparison':\n",
        "    # config.all_module_names = ['family_member_hobby_comparison']\n",
        "    config = get_family_module_config(\n",
        "        relation_type=family.RelationType.FAMILY_MEMBER_HOBBY_COMPARISON\n",
        "    )\n",
        "  else:\n",
        "    raise ValueError('unrecognized task: %s' % options['task'])\n",
        "\n",
        "  # misc\n",
        "  config.preamble = ''\n",
        "  config.query_preamble = ''\n",
        "  config.add_filler = common_options['add_filler']\n",
        "  config.heuristic_field = common_options.get('heuristic_field', None)\n",
        "  config.entities_mode = common_options.get('entities_mode', None)\n",
        "  # Filler not implemented\n",
        "  if common_options.get('add_filler', None):\n",
        "    raise RuntimeError('Filler not yet implemented for this module.')\n",
        "  if common_options.get('heuristic_field', None):\n",
        "    raise RuntimeError('N/A for this task.')\n",
        "  if common_options.get('entities_mode', None):\n",
        "    raise RuntimeError('N/A for this task.')\n",
        "\n",
        "  return config\n",
        "\n"
      ]
    },
    {
      "cell_type": "code",
      "execution_count": null,
      "metadata": {
        "cellView": "form",
        "id": "bLLJuIt3NGns"
      },
      "outputs": [],
      "source": [
        "\n",
        "# @title Construct Config\n",
        "def construct_config_given_global(global_config):\n",
        "  stamp_creation_time = datetime.datetime.now().strftime('%Y%m%d-%H%M%S')\n",
        "  if global_config['domain'] == 'social_network':\n",
        "    config = initialize_social_network_config()\n",
        "  elif global_config['domain'] == 'comparison':\n",
        "    config = initialize_comparison_config()\n",
        "  elif global_config['domain'] == 'syllogism':\n",
        "    config = initialize_syllogism_config()\n",
        "  elif global_config['domain'] == 'family_json':\n",
        "    config = initialize_family_config()\n",
        "  else:\n",
        "    raise ValueError('unrecognized domain: %s' % global_config['domain'])\n",
        "  outer_config = ml_collections.ConfigDict()\n",
        "  outer_config._config = config\n",
        "  outer_config.all_module_names = ['_config']\n",
        "  outer_config.maintain_entity_uniqueness = False\n",
        "  outer_config.config_only_hash = utils.order_invariant_hash(outer_config)\n",
        "  outer_config.timestamp = stamp_creation_time\n",
        "  outer_config.heuristic_field = config.heuristic_field\n",
        "  del config.heuristic_field\n",
        "  return outer_config\n",
        "\n",
        "\n",
        "global_config = get_global_config()\n",
        "dataset_config = construct_config_given_global(global_config)\n",
        "print(dataset_config)"
      ]
    },
    {
      "cell_type": "code",
      "execution_count": null,
      "metadata": {
        "id": "z6MxvGnsM_Ci"
      },
      "outputs": [],
      "source": [
        "split = global_config['split']\n",
        "seeds = global_config['csv_seed_list']\n",
        "for seed in seeds:\n",
        "  examples = recoglab_dataset.generate_dataset(\n",
        "      dataset_config,\n",
        "      split=split,\n",
        "      seed=seed,\n",
        "      num_examples=global_config['num_examples'],\n",
        "      metadata_rebalance_field=dataset_config.heuristic_field,\n",
        "  )"
      ]
    },
    {
      "cell_type": "code",
      "execution_count": null,
      "metadata": {
        "id": "Ukx6hAI4PQB9"
      },
      "outputs": [],
      "source": [
        "def render_example(example):\n",
        "  print()\n",
        "  print(\"Prompt\")\n",
        "  print(\"======\")\n",
        "  print(example.get_prompts())\n",
        "  print()\n",
        "  print(\"Question\")\n",
        "  print(\"======\")\n",
        "  print(example.get_question())\n",
        "  print()\n",
        "  print(\"Answer\")\n",
        "  print(\"======\")\n",
        "  print(example.get_answers())\n",
        "\n",
        "\n",
        "def count_answers(examples):\n",
        "  answer_hist = collections.defaultdict(int)\n",
        "  for e in examples:\n",
        "    answer_hist[tuple(e.get_answers())] += 1\n",
        "  return answer_hist\n",
        "\n",
        "\n",
        "def conut_metadata(examples, metadata_field):\n",
        "  metadata_hist = collections.defaultdict(int)\n",
        "  for e in examples:\n",
        "    metadata_value = e.get_metadata()[metadata_field]\n",
        "    metadata_hist[metadata_value] += 1\n",
        "  return metadata_hist"
      ]
    },
    {
      "cell_type": "code",
      "execution_count": null,
      "metadata": {
        "id": "5W0CcYHQT66c"
      },
      "outputs": [],
      "source": [
        "render_example(examples[0])"
      ]
    },
    {
      "cell_type": "code",
      "execution_count": null,
      "metadata": {
        "id": "p3hw7S1Gl7On"
      },
      "outputs": [],
      "source": [
        "print(conut_metadata(examples, 'answer/symbolic_distance'))\n",
        "print(count_answers(examples))"
      ]
    }
  ],
  "metadata": {
    "colab": {
      "private_outputs": true,
      "provenance": []
    },
    "kernelspec": {
      "display_name": "Python 3",
      "name": "python3"
    },
    "language_info": {
      "name": "python"
    }
  },
  "nbformat": 4,
  "nbformat_minor": 0
}
